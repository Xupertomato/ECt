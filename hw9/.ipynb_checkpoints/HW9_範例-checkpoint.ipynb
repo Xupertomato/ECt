{
 "cells": [
  {
   "cell_type": "code",
   "execution_count": null,
   "metadata": {
    "id": "iSLaimjv4gwn"
   },
   "outputs": [],
   "source": [
    "import numpy as np\n",
    "from keras.utils import np_utils\n",
    "import pandas as pd\n",
    "import matplotlib.pyplot as plt\n",
    "import seaborn as sns\n",
    "import tensorflow as tf\n",
    "import keras"
   ]
  },
  {
   "cell_type": "markdown",
   "metadata": {
    "id": "z_s-VMLPuPXw"
   },
   "source": [
    "### 載入 fashion_mnist 資料集"
   ]
  },
  {
   "cell_type": "code",
   "execution_count": null,
   "metadata": {
    "id": "6NZoBWdy44WG"
   },
   "outputs": [],
   "source": [
    "(X_train, y_train), (X_test, y_test)= tf.keras.datasets.fashion_mnist.load_data()"
   ]
  },
  {
   "cell_type": "code",
   "execution_count": null,
   "metadata": {
    "colab": {
     "base_uri": "https://localhost:8080/"
    },
    "id": "9xFnNA9CA4ja",
    "outputId": "8d94103c-7955-4f6c-90b5-3428973d0318"
   },
   "outputs": [
    {
     "data": {
      "text/plain": [
       "((60000, 28, 28), (60000,))"
      ]
     },
     "execution_count": 3,
     "metadata": {
      "tags": []
     },
     "output_type": "execute_result"
    }
   ],
   "source": [
    "X_train.shape , y_train.shape"
   ]
  },
  {
   "cell_type": "code",
   "execution_count": null,
   "metadata": {
    "id": "1K7Pi2wQDUJZ"
   },
   "outputs": [],
   "source": [
    "class_labels = ['T-shirt/top','Trouser','Pullover','Dress','Coat','Sandal','Shirt','Sneakers','Bag','Ankle boot']"
   ]
  },
  {
   "cell_type": "code",
   "execution_count": null,
   "metadata": {
    "colab": {
     "base_uri": "https://localhost:8080/",
     "height": 398
    },
    "id": "xCP4coN4XnWi",
    "outputId": "55c782ea-a4ec-44ba-d453-0868ef931b77"
   },
   "outputs": [
    {
     "data": {
      "image/png": "[encoded data removed]",
      "text/plain": [
       "<Figure size 1152x1152 with 10 Axes>"
      ]
     },
     "metadata": {
      "needs_background": "light",
      "tags": []
     },
     "output_type": "display_data"
    }
   ],
   "source": [
    "# 隨機挑 10 筆資料顯示\n",
    "plt.figure(figsize=(16,16))\n",
    "j = 1\n",
    "for i in np.random.randint(0,1000,10):\n",
    "  plt.subplot(5,5,j); j+=1\n",
    "  plt.imshow(X_train[i],cmap = 'Greys')\n",
    "  plt.axis('off')\n",
    "  plt.title('{} / {}'.format(class_labels[y_train[i]],y_train[i]))"
   ]
  },
  {
   "cell_type": "markdown",
   "metadata": {
    "id": "tfqKdiNfuXr-"
   },
   "source": [
    "###建立 keras 模型示範"
   ]
  },
  {
   "cell_type": "code",
   "execution_count": null,
   "metadata": {
    "id": "07_LlKP2_X6g"
   },
   "outputs": [],
   "source": [
    "from keras.models import Sequential\n",
    "from keras.layers import Dense"
   ]
  },
  {
   "cell_type": "code",
   "execution_count": null,
   "metadata": {
    "id": "pu7iI-qw-bCQ"
   },
   "outputs": [],
   "source": [
    "# 建立 Sequential 來堆疊模型\n",
    "model = Sequential()\n",
    "model.add(Dense(12, input_dim=8, activation='relu')) # 12 個 neural 的神經網路，input 8 維\n",
    "model.add(Dense(8, activation='relu')) # 8 個 neural 的神經網路\n",
    "model.add(Dense(3, activation='sigmoid'))"
   ]
  },
  {
   "cell_type": "code",
   "execution_count": null,
   "metadata": {
    "id": "NLtGT5xw-bM-"
   },
   "outputs": [],
   "source": [
    "model.compile(loss='categorical_crossentropy', optimizer='adam', metrics=['accuracy'])"
   ]
  },
  {
   "cell_type": "code",
   "execution_count": null,
   "metadata": {
    "colab": {
     "base_uri": "https://localhost:8080/"
    },
    "id": "jGJqE6Ar-bgI",
    "outputId": "2df07bdd-fab9-4cba-9860-d8984c93ff2b"
   },
   "outputs": [
    {
     "name": "stdout",
     "output_type": "stream",
     "text": [
      "Model: \"sequential\"\n",
      "_________________________________________________________________\n",
      "Layer (type)                 Output Shape              Param #   \n",
      "=================================================================\n",
      "dense (Dense)                (None, 12)                108       \n",
      "_________________________________________________________________\n",
      "dense_1 (Dense)              (None, 8)                 104       \n",
      "_________________________________________________________________\n",
      "dense_2 (Dense)              (None, 3)                 27        \n",
      "=================================================================\n",
      "Total params: 239\n",
      "Trainable params: 239\n",
      "Non-trainable params: 0\n",
      "_________________________________________________________________\n"
     ]
    }
   ],
   "source": [
    "# 查看建立的模型\n",
    "model.summary() "
   ]
  },
  {
   "cell_type": "code",
   "execution_count": null,
   "metadata": {
    "id": "zEbfhkH6-bk1"
   },
   "outputs": [],
   "source": [
    "# 這邊以隨機數字做為範例輸入輸出\n",
    "X = np.random.random_sample((100, 8)) # 輸入是 100 筆 8 維的資料\n",
    "y = np_utils.to_categorical(np.random.randint(3, size=100)) # 輸出是 [0,1,2] 三種 label，透過 np_utils.to_categorical 可以轉成 one-hot vector"
   ]
  },
  {
   "cell_type": "code",
   "execution_count": null,
   "metadata": {
    "colab": {
     "base_uri": "https://localhost:8080/"
    },
    "id": "xqugDVgm-bqF",
    "outputId": "693cc1c7-064f-4065-f2aa-2f0017e6693e"
   },
   "outputs": [
    {
     "name": "stdout",
     "output_type": "stream",
     "text": [
      "Epoch 1/20\n",
      "8/8 - 0s - loss: 1.0784 - accuracy: 0.3875 - val_loss: 1.0622 - val_accuracy: 0.4500\n",
      "Epoch 2/20\n",
      "8/8 - 0s - loss: 1.0766 - accuracy: 0.4125 - val_loss: 1.0682 - val_accuracy: 0.4500\n",
      "Epoch 3/20\n",
      "8/8 - 0s - loss: 1.0740 - accuracy: 0.4000 - val_loss: 1.0731 - val_accuracy: 0.4500\n",
      "Epoch 4/20\n",
      "8/8 - 0s - loss: 1.0726 - accuracy: 0.3875 - val_loss: 1.0778 - val_accuracy: 0.4500\n",
      "Epoch 5/20\n",
      "8/8 - 0s - loss: 1.0723 - accuracy: 0.4000 - val_loss: 1.0776 - val_accuracy: 0.4000\n",
      "Epoch 6/20\n",
      "8/8 - 0s - loss: 1.0711 - accuracy: 0.3875 - val_loss: 1.0880 - val_accuracy: 0.4000\n",
      "Epoch 7/20\n",
      "8/8 - 0s - loss: 1.0673 - accuracy: 0.3875 - val_loss: 1.0887 - val_accuracy: 0.4000\n",
      "Epoch 8/20\n",
      "8/8 - 0s - loss: 1.0659 - accuracy: 0.3875 - val_loss: 1.0920 - val_accuracy: 0.4000\n",
      "Epoch 9/20\n",
      "8/8 - 0s - loss: 1.0647 - accuracy: 0.4000 - val_loss: 1.0944 - val_accuracy: 0.4000\n",
      "Epoch 10/20\n",
      "8/8 - 0s - loss: 1.0629 - accuracy: 0.4000 - val_loss: 1.0931 - val_accuracy: 0.4000\n",
      "Epoch 11/20\n",
      "8/8 - 0s - loss: 1.0619 - accuracy: 0.4000 - val_loss: 1.0910 - val_accuracy: 0.4000\n",
      "Epoch 12/20\n",
      "8/8 - 0s - loss: 1.0625 - accuracy: 0.4000 - val_loss: 1.0944 - val_accuracy: 0.4000\n",
      "Epoch 13/20\n",
      "8/8 - 0s - loss: 1.0595 - accuracy: 0.4125 - val_loss: 1.0934 - val_accuracy: 0.4000\n",
      "Epoch 14/20\n",
      "8/8 - 0s - loss: 1.0586 - accuracy: 0.4000 - val_loss: 1.0954 - val_accuracy: 0.4000\n",
      "Epoch 15/20\n",
      "8/8 - 0s - loss: 1.0573 - accuracy: 0.4125 - val_loss: 1.0922 - val_accuracy: 0.4000\n",
      "Epoch 16/20\n",
      "8/8 - 0s - loss: 1.0560 - accuracy: 0.4125 - val_loss: 1.0927 - val_accuracy: 0.4000\n",
      "Epoch 17/20\n",
      "8/8 - 0s - loss: 1.0549 - accuracy: 0.4250 - val_loss: 1.0896 - val_accuracy: 0.3500\n",
      "Epoch 18/20\n",
      "8/8 - 0s - loss: 1.0547 - accuracy: 0.4375 - val_loss: 1.0929 - val_accuracy: 0.3500\n",
      "Epoch 19/20\n",
      "8/8 - 0s - loss: 1.0526 - accuracy: 0.4250 - val_loss: 1.0896 - val_accuracy: 0.3500\n",
      "Epoch 20/20\n",
      "8/8 - 0s - loss: 1.0523 - accuracy: 0.4250 - val_loss: 1.0919 - val_accuracy: 0.3500\n"
     ]
    },
    {
     "data": {
      "text/plain": [
       "<keras.callbacks.History at 0x7f96c03d6e10>"
      ]
     },
     "execution_count": 12,
     "metadata": {
      "tags": []
     },
     "output_type": "execute_result"
    }
   ],
   "source": [
    "model.fit(X, y, epochs=20, batch_size=10, verbose=2, validation_split=0.2)"
   ]
  }
 ],
 "metadata": {
  "accelerator": "GPU",
  "colab": {
   "collapsed_sections": [],
   "name": "HW9 範例",
   "provenance": []
  },
  "kernelspec": {
   "display_name": "Python 3",
   "language": "python",
   "name": "python3"
  },
  "language_info": {
   "codemirror_mode": {
    "name": "ipython",
    "version": 3
   },
   "file_extension": ".py",
   "mimetype": "text/x-python",
   "name": "python",
   "nbconvert_exporter": "python",
   "pygments_lexer": "ipython3",
   "version": "3.8.5"
  }
 },
 "nbformat": 4,
 "nbformat_minor": 1
}
