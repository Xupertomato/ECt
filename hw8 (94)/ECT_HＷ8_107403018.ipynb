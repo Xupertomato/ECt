{
 "cells": [
  {
   "cell_type": "code",
   "execution_count": 3,
   "metadata": {},
   "outputs": [
    {
     "ename": "ModuleNotFoundError",
     "evalue": "No module named 'pandas'",
     "output_type": "error",
     "traceback": [
      "\u001b[0;31m---------------------------------------------------------------------------\u001b[0m",
      "\u001b[0;31mModuleNotFoundError\u001b[0m                       Traceback (most recent call last)",
      "Cell \u001b[0;32mIn[3], line 1\u001b[0m\n\u001b[0;32m----> 1\u001b[0m \u001b[39mimport\u001b[39;00m \u001b[39mpandas\u001b[39;00m \u001b[39mas\u001b[39;00m \u001b[39mpd\u001b[39;00m \u001b[39m# 引用套件並縮寫為 pd  \u001b[39;00m\n\u001b[1;32m      2\u001b[0m \u001b[39mimport\u001b[39;00m \u001b[39mnumpy\u001b[39;00m \u001b[39mas\u001b[39;00m \u001b[39mnp\u001b[39;00m\n\u001b[1;32m      3\u001b[0m \u001b[39mfrom\u001b[39;00m \u001b[39msklearn\u001b[39;00m \u001b[39mimport\u001b[39;00m preprocessing\n",
      "\u001b[0;31mModuleNotFoundError\u001b[0m: No module named 'pandas'"
     ]
    }
   ],
   "source": [
    "import pandas as pd # 引用套件並縮寫為 pd  \n",
    "import numpy as np\n",
    "from sklearn import preprocessing\n",
    "import matplotlib.pyplot as plt\n",
    "from sklearn.model_selection import train_test_split\n",
    "pd.set_option('display.width',1000)\n",
    "df = pd.read_csv('/Users/xwlee/Desktop/ECt/hw8/income.csv') "
   ]
  },
  {
   "cell_type": "code",
   "execution_count": 4,
   "metadata": {},
   "outputs": [
    {
     "ename": "ModuleNotFoundError",
     "evalue": "No module named 'sklearn'",
     "output_type": "error",
     "traceback": [
      "\u001b[0;31m---------------------------------------------------------------------------\u001b[0m",
      "\u001b[0;31mModuleNotFoundError\u001b[0m                       Traceback (most recent call last)",
      "Cell \u001b[0;32mIn[4], line 1\u001b[0m\n\u001b[0;32m----> 1\u001b[0m \u001b[39mfrom\u001b[39;00m \u001b[39msklearn\u001b[39;00m\u001b[39m.\u001b[39;00m\u001b[39mpreprocessing\u001b[39;00m \u001b[39mimport\u001b[39;00m LabelEncoder\n\u001b[1;32m      2\u001b[0m labelencoder \u001b[39m=\u001b[39m LabelEncoder()\n\u001b[1;32m      3\u001b[0m df[\u001b[39m'\u001b[39m\u001b[39mworkclass\u001b[39m\u001b[39m'\u001b[39m] \u001b[39m=\u001b[39m labelencoder\u001b[39m.\u001b[39mfit_transform(df[\u001b[39m'\u001b[39m\u001b[39mworkclass\u001b[39m\u001b[39m'\u001b[39m])\n",
      "\u001b[0;31mModuleNotFoundError\u001b[0m: No module named 'sklearn'"
     ]
    }
   ],
   "source": [
    "from sklearn.preprocessing import LabelEncoder\n",
    "labelencoder = LabelEncoder()\n",
    "df['workclass'] = labelencoder.fit_transform(df['workclass'])\n",
    "df['education'] = labelencoder.fit_transform(df['workclass'])\n",
    "df['marital-status'] = labelencoder.fit_transform(df['workclass'])\n",
    "df['occupation'] = labelencoder.fit_transform(df['workclass'])\n",
    "df['relationship'] = labelencoder.fit_transform(df['workclass'])\n",
    "df['race'] = labelencoder.fit_transform(df['workclass'])\n",
    "df['gender'] = labelencoder.fit_transform(df['workclass'])\n",
    "df['native-country'] = labelencoder.fit_transform(df['workclass'])"
   ]
  },
  {
   "cell_type": "code",
   "execution_count": 6,
   "metadata": {},
   "outputs": [
    {
     "ename": "ModuleNotFoundError",
     "evalue": "No module named 'sklearn'",
     "output_type": "error",
     "traceback": [
      "\u001b[0;31m---------------------------------------------------------------------------\u001b[0m",
      "\u001b[0;31mModuleNotFoundError\u001b[0m                       Traceback (most recent call last)",
      "Cell \u001b[0;32mIn[6], line 1\u001b[0m\n\u001b[0;32m----> 1\u001b[0m \u001b[39mfrom\u001b[39;00m \u001b[39msklearn\u001b[39;00m\u001b[39m.\u001b[39;00m\u001b[39mmodel_selection\u001b[39;00m \u001b[39mimport\u001b[39;00m train_test_split\n\u001b[1;32m      2\u001b[0m \u001b[39mfrom\u001b[39;00m \u001b[39msklearn\u001b[39;00m\u001b[39m.\u001b[39;00m\u001b[39mneighbors\u001b[39;00m \u001b[39mimport\u001b[39;00m KNeighborsClassifier\n\u001b[1;32m      3\u001b[0m \u001b[39mfrom\u001b[39;00m \u001b[39msklearn\u001b[39;00m \u001b[39mimport\u001b[39;00m metrics\n",
      "\u001b[0;31mModuleNotFoundError\u001b[0m: No module named 'sklearn'"
     ]
    }
   ],
   "source": [
    "from sklearn.model_selection import train_test_split\n",
    "from sklearn.neighbors import KNeighborsClassifier\n",
    "from sklearn import metrics\n",
    "x=df[['age','workclass','fnlwgt','education','educational-num','marital-status','occupation','relationship','race','gender','capital-gain','capital-loss','hours-per-week','native-country']]\n",
    "y=df[['income']]\n",
    "x_train,x_test,y_train,y_test=train_test_split(x,y,test_size=0.3,random_state=15)\n",
    "knn = KNeighborsClassifier()\n",
    "knn.fit(x_train,y_train.values.ravel())\n",
    "y_test_predicted = knn.predict(x_test)\n",
    "accuracy = metrics.accuracy_score(y_test, y_test_predicted)\n",
    "print(accuracy)"
   ]
  },
  {
   "cell_type": "code",
   "execution_count": 22,
   "metadata": {},
   "outputs": [
    {
     "name": "stdout",
     "output_type": "stream",
     "text": [
      "n= 1 Best score achieved: 0.6658819365115118, Feature's names: ('educational-num',)\n",
      "n= 2 Best score achieved: 0.698117334105621, Feature's names: ('educational-num', 'capital-gain')\n",
      "n= 3 Best score achieved: 0.7301902294874477, Feature's names: ('age', 'educational-num', 'capital-gain')\n",
      "n= 4 Best score achieved: 0.738101137515486, Feature's names: ('age', 'educational-num', 'capital-gain', 'capital-loss')\n",
      "n= 5 Best score achieved: 0.7473293324537834, Feature's names: ('age', 'educational-num', 'capital-gain', 'capital-loss', 'hours-per-week')\n",
      "n= 6 Best score achieved: 0.7474764961734215, Feature's names: ('age', 'workclass', 'educational-num', 'capital-gain', 'capital-loss', 'hours-per-week')\n",
      "n= 7 Best score achieved: 0.7452789084999919, Feature's names: ('age', 'workclass', 'education', 'educational-num', 'capital-gain', 'capital-loss', 'hours-per-week')\n",
      "n= 8 Best score achieved: 0.7436676159370157, Feature's names: ('age', 'workclass', 'education', 'educational-num', 'marital-status', 'capital-gain', 'capital-loss', 'hours-per-week')\n",
      "n= 9 Best score achieved: 0.7427889241066401, Feature's names: ('age', 'workclass', 'education', 'educational-num', 'marital-status', 'occupation', 'capital-gain', 'capital-loss', 'hours-per-week')\n",
      "n= 10 Best score achieved: 0.7436675086748293, Feature's names: ('age', 'workclass', 'education', 'educational-num', 'marital-status', 'occupation', 'relationship', 'capital-gain', 'capital-loss', 'hours-per-week')\n",
      "n= 11 Best score achieved: 0.7451323883534717, Feature's names: ('age', 'workclass', 'education', 'educational-num', 'marital-status', 'occupation', 'relationship', 'race', 'capital-gain', 'capital-loss', 'hours-per-week')\n",
      "n= 12 Best score achieved: 0.7442534819987235, Feature's names: ('age', 'workclass', 'education', 'educational-num', 'marital-status', 'occupation', 'relationship', 'race', 'gender', 'capital-gain', 'capital-loss', 'hours-per-week')\n",
      "n= 13 Best score achieved: 0.7439601199191243, Feature's names: ('age', 'workclass', 'education', 'educational-num', 'marital-status', 'occupation', 'relationship', 'race', 'gender', 'capital-gain', 'capital-loss', 'hours-per-week', 'native-country')\n",
      "n= 14 Best score achieved: 0.6078816254511715, Feature's names: ('age', 'workclass', 'fnlwgt', 'education', 'educational-num', 'marital-status', 'occupation', 'relationship', 'race', 'gender', 'capital-gain', 'capital-loss', 'hours-per-week', 'native-country')\n"
     ]
    }
   ],
   "source": [
    "from mlxtend.feature_selection import SequentialFeatureSelector as SFS\n",
    "a=[]\n",
    "for i in range(14):\n",
    "    forward = SFS(knn, \n",
    "              k_features = i+1, \n",
    "              forward = True, \n",
    "              floating = False, \n",
    "              verbose = 0,\n",
    "              scoring = 'accuracy',\n",
    "              cv=5)\n",
    "    forward = forward.fit(x_train, y_train.values.ravel())\n",
    "    a.append(forward.k_score_)\n",
    "    print(\"n=\",i+1,f\"Best score achieved: {forward.k_score_}, Feature's names: {forward.k_feature_names_}\")      "
   ]
  },
  {
   "cell_type": "code",
   "execution_count": 23,
   "metadata": {},
   "outputs": [
    {
     "data": {
      "image/png": "[encoded data removed]",
      "text/plain": [
       "<Figure size 432x288 with 1 Axes>"
      ]
     },
     "metadata": {
      "needs_background": "light"
     },
     "output_type": "display_data"
    }
   ],
   "source": [
    "b = np.linspace(1,14,14)\n",
    "plt.plot(b,a,'o-',color = 'b')\n",
    "plt.xlabel(\"Number of features\", fontsize=10, labelpad = 15)\n",
    "plt.ylabel(\"Accuracy\", fontsize=10, labelpad = 20)\n",
    "plt.xticks(np.arange(min(b), max(b)+1, 1.0))\n",
    "plt.show()"
   ]
  },
  {
   "cell_type": "code",
   "execution_count": 24,
   "metadata": {},
   "outputs": [
    {
     "data": {
      "text/html": [
       "<div>\n",
       "<style scoped>\n",
       "    .dataframe tbody tr th:only-of-type {\n",
       "        vertical-align: middle;\n",
       "    }\n",
       "\n",
       "    .dataframe tbody tr th {\n",
       "        vertical-align: top;\n",
       "    }\n",
       "\n",
       "    .dataframe thead th {\n",
       "        text-align: right;\n",
       "    }\n",
       "</style>\n",
       "<table border=\"1\" class=\"dataframe\">\n",
       "  <thead>\n",
       "    <tr style=\"text-align: right;\">\n",
       "      <th></th>\n",
       "      <th>Number of features</th>\n",
       "      <th>Accuracy</th>\n",
       "    </tr>\n",
       "  </thead>\n",
       "  <tbody>\n",
       "    <tr>\n",
       "      <th>0</th>\n",
       "      <td>1.0</td>\n",
       "      <td>0.665882</td>\n",
       "    </tr>\n",
       "    <tr>\n",
       "      <th>1</th>\n",
       "      <td>2.0</td>\n",
       "      <td>0.698117</td>\n",
       "    </tr>\n",
       "    <tr>\n",
       "      <th>2</th>\n",
       "      <td>3.0</td>\n",
       "      <td>0.730190</td>\n",
       "    </tr>\n",
       "    <tr>\n",
       "      <th>3</th>\n",
       "      <td>4.0</td>\n",
       "      <td>0.738101</td>\n",
       "    </tr>\n",
       "    <tr>\n",
       "      <th>4</th>\n",
       "      <td>5.0</td>\n",
       "      <td>0.747329</td>\n",
       "    </tr>\n",
       "    <tr>\n",
       "      <th>5</th>\n",
       "      <td>6.0</td>\n",
       "      <td>0.747476</td>\n",
       "    </tr>\n",
       "    <tr>\n",
       "      <th>6</th>\n",
       "      <td>7.0</td>\n",
       "      <td>0.745279</td>\n",
       "    </tr>\n",
       "    <tr>\n",
       "      <th>7</th>\n",
       "      <td>8.0</td>\n",
       "      <td>0.743668</td>\n",
       "    </tr>\n",
       "    <tr>\n",
       "      <th>8</th>\n",
       "      <td>9.0</td>\n",
       "      <td>0.742789</td>\n",
       "    </tr>\n",
       "    <tr>\n",
       "      <th>9</th>\n",
       "      <td>10.0</td>\n",
       "      <td>0.743668</td>\n",
       "    </tr>\n",
       "    <tr>\n",
       "      <th>10</th>\n",
       "      <td>11.0</td>\n",
       "      <td>0.745132</td>\n",
       "    </tr>\n",
       "    <tr>\n",
       "      <th>11</th>\n",
       "      <td>12.0</td>\n",
       "      <td>0.744253</td>\n",
       "    </tr>\n",
       "    <tr>\n",
       "      <th>12</th>\n",
       "      <td>13.0</td>\n",
       "      <td>0.743960</td>\n",
       "    </tr>\n",
       "    <tr>\n",
       "      <th>13</th>\n",
       "      <td>14.0</td>\n",
       "      <td>0.607882</td>\n",
       "    </tr>\n",
       "  </tbody>\n",
       "</table>\n",
       "</div>"
      ],
      "text/plain": [
       "    Number of features  Accuracy\n",
       "0                  1.0  0.665882\n",
       "1                  2.0  0.698117\n",
       "2                  3.0  0.730190\n",
       "3                  4.0  0.738101\n",
       "4                  5.0  0.747329\n",
       "5                  6.0  0.747476\n",
       "6                  7.0  0.745279\n",
       "7                  8.0  0.743668\n",
       "8                  9.0  0.742789\n",
       "9                 10.0  0.743668\n",
       "10                11.0  0.745132\n",
       "11                12.0  0.744253\n",
       "12                13.0  0.743960\n",
       "13                14.0  0.607882"
      ]
     },
     "execution_count": 24,
     "metadata": {},
     "output_type": "execute_result"
    }
   ],
   "source": [
    "dict = {\"Number of features\": b,\"Accuracy\": a}\n",
    "df1 = pd.DataFrame(dict)\n",
    "df1"
   ]
  },
  {
   "cell_type": "code",
   "execution_count": 28,
   "metadata": {},
   "outputs": [
    {
     "name": "stdout",
     "output_type": "stream",
     "text": [
      "When number of feature is 6 ,best score achieved: 0.7474764961734215, Feature's names: ('age', 'workclass', 'educational-num', 'capital-gain', 'capital-loss', 'hours-per-week')\n"
     ]
    }
   ],
   "source": [
    "n=df1['Number of features'].loc[df1['Accuracy'].argmax()]\n",
    "m=int(n.tolist())\n",
    "forward = SFS(knn, \n",
    "              k_features =m, \n",
    "              forward = True, \n",
    "              floating = False, \n",
    "              verbose = 0,\n",
    "              scoring = 'accuracy',\n",
    "              cv=5)\n",
    "forward = forward.fit(x_train, y_train.values.ravel())\n",
    "a.append(forward.k_score_)\n",
    "print(\"When number of feature is\",m,f\",best score achieved: {forward.k_score_}, Feature's names: {forward.k_feature_names_}\")      "
   ]
  },
  {
   "cell_type": "code",
   "execution_count": 29,
   "metadata": {},
   "outputs": [
    {
     "name": "stdout",
     "output_type": "stream",
     "text": [
      "Before: 0.6230348598769652\n",
      "After: 0.7539302802460697\n"
     ]
    }
   ],
   "source": [
    "x1=df[['age','workclass','educational-num','capital-gain','capital-loss','hours-per-week']]\n",
    "y1=df[['income']]\n",
    "x1_train,x1_test,y1_train,y1_test=train_test_split(x1,y1,test_size=0.3,random_state=15)\n",
    "knn = KNeighborsClassifier()\n",
    "knn.fit(x1_train,y1_train.values.ravel())\n",
    "y1_test_predicted = knn.predict(x1_test)\n",
    "accuracy1 = metrics.accuracy_score(y1_test, y1_test_predicted)\n",
    "print(\"Before:\",accuracy)\n",
    "print(\"After:\",accuracy1)"
   ]
  },
  {
   "cell_type": "code",
   "execution_count": null,
   "metadata": {},
   "outputs": [],
   "source": []
  }
 ],
 "metadata": {
  "kernelspec": {
   "display_name": "Python 3",
   "language": "python",
   "name": "python3"
  },
  "language_info": {
   "codemirror_mode": {
    "name": "ipython",
    "version": 3
   },
   "file_extension": ".py",
   "mimetype": "text/x-python",
   "name": "python",
   "nbconvert_exporter": "python",
   "pygments_lexer": "ipython3",
   "version": "3.11.1"
  },
  "vscode": {
   "interpreter": {
    "hash": "5c7b89af1651d0b8571dde13640ecdccf7d5a6204171d6ab33e7c296e100e08a"
   }
  }
 },
 "nbformat": 4,
 "nbformat_minor": 4
}
