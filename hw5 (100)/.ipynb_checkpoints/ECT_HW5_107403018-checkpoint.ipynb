{
 "cells": [
  {
   "cell_type": "code",
   "execution_count": 1,
   "metadata": {},
   "outputs": [],
   "source": [
    "import pandas as pd # 引用套件並縮寫為 pd  \n",
    "import numpy as np\n",
    "from sklearn import preprocessing\n",
    "import matplotlib.pyplot as plt\n",
    "from sklearn.model_selection import train_test_split\n",
    "pd.set_option('display.width',1000)\n",
    "df = pd.read_csv('/Users/xwlee/Desktop/ECt/hw5/ageinc.csv') "
   ]
  },
  {
   "cell_type": "code",
   "execution_count": 2,
   "metadata": {},
   "outputs": [
    {
     "data": {
      "text/html": [
       "<div>\n",
       "<style scoped>\n",
       "    .dataframe tbody tr th:only-of-type {\n",
       "        vertical-align: middle;\n",
       "    }\n",
       "\n",
       "    .dataframe tbody tr th {\n",
       "        vertical-align: top;\n",
       "    }\n",
       "\n",
       "    .dataframe thead th {\n",
       "        text-align: right;\n",
       "    }\n",
       "</style>\n",
       "<table border=\"1\" class=\"dataframe\">\n",
       "  <thead>\n",
       "    <tr style=\"text-align: right;\">\n",
       "      <th></th>\n",
       "      <th>income</th>\n",
       "      <th>age</th>\n",
       "      <th>z_income</th>\n",
       "      <th>z_age</th>\n",
       "    </tr>\n",
       "  </thead>\n",
       "  <tbody>\n",
       "    <tr>\n",
       "      <th>0</th>\n",
       "      <td>101743</td>\n",
       "      <td>58</td>\n",
       "      <td>0.551088</td>\n",
       "      <td>1.694418</td>\n",
       "    </tr>\n",
       "    <tr>\n",
       "      <th>1</th>\n",
       "      <td>49597</td>\n",
       "      <td>27</td>\n",
       "      <td>-0.777720</td>\n",
       "      <td>-1.131131</td>\n",
       "    </tr>\n",
       "    <tr>\n",
       "      <th>2</th>\n",
       "      <td>36517</td>\n",
       "      <td>52</td>\n",
       "      <td>-1.111030</td>\n",
       "      <td>1.147537</td>\n",
       "    </tr>\n",
       "    <tr>\n",
       "      <th>3</th>\n",
       "      <td>33223</td>\n",
       "      <td>49</td>\n",
       "      <td>-1.194969</td>\n",
       "      <td>0.874097</td>\n",
       "    </tr>\n",
       "    <tr>\n",
       "      <th>4</th>\n",
       "      <td>72994</td>\n",
       "      <td>53</td>\n",
       "      <td>-0.181507</td>\n",
       "      <td>1.238684</td>\n",
       "    </tr>\n",
       "    <tr>\n",
       "      <th>...</th>\n",
       "      <td>...</td>\n",
       "      <td>...</td>\n",
       "      <td>...</td>\n",
       "      <td>...</td>\n",
       "    </tr>\n",
       "    <tr>\n",
       "      <th>995</th>\n",
       "      <td>70615</td>\n",
       "      <td>29</td>\n",
       "      <td>-0.242130</td>\n",
       "      <td>-0.948837</td>\n",
       "    </tr>\n",
       "    <tr>\n",
       "      <th>996</th>\n",
       "      <td>95102</td>\n",
       "      <td>41</td>\n",
       "      <td>0.381859</td>\n",
       "      <td>0.144923</td>\n",
       "    </tr>\n",
       "    <tr>\n",
       "      <th>997</th>\n",
       "      <td>42203</td>\n",
       "      <td>35</td>\n",
       "      <td>-0.966137</td>\n",
       "      <td>-0.401957</td>\n",
       "    </tr>\n",
       "    <tr>\n",
       "      <th>998</th>\n",
       "      <td>16975</td>\n",
       "      <td>31</td>\n",
       "      <td>-1.609008</td>\n",
       "      <td>-0.766544</td>\n",
       "    </tr>\n",
       "    <tr>\n",
       "      <th>999</th>\n",
       "      <td>123857</td>\n",
       "      <td>44</td>\n",
       "      <td>1.114607</td>\n",
       "      <td>0.418363</td>\n",
       "    </tr>\n",
       "  </tbody>\n",
       "</table>\n",
       "<p>1000 rows × 4 columns</p>\n",
       "</div>"
      ],
      "text/plain": [
       "     income  age  z_income     z_age\n",
       "0    101743   58  0.551088  1.694418\n",
       "1     49597   27 -0.777720 -1.131131\n",
       "2     36517   52 -1.111030  1.147537\n",
       "3     33223   49 -1.194969  0.874097\n",
       "4     72994   53 -0.181507  1.238684\n",
       "..      ...  ...       ...       ...\n",
       "995   70615   29 -0.242130 -0.948837\n",
       "996   95102   41  0.381859  0.144923\n",
       "997   42203   35 -0.966137 -0.401957\n",
       "998   16975   31 -1.609008 -0.766544\n",
       "999  123857   44  1.114607  0.418363\n",
       "\n",
       "[1000 rows x 4 columns]"
      ]
     },
     "execution_count": 2,
     "metadata": {},
     "output_type": "execute_result"
    }
   ],
   "source": [
    "df.insert(2, column=\"z_income\", value=preprocessing.scale(df['income']))\n",
    "df.insert(3, column=\"z_age\", value=preprocessing.scale(df['age']))\n",
    "df"
   ]
  },
  {
   "cell_type": "code",
   "execution_count": 3,
   "metadata": {},
   "outputs": [],
   "source": [
    "df1 = df.drop(['income','age'],axis=1)"
   ]
  },
  {
   "cell_type": "code",
   "execution_count": 4,
   "metadata": {},
   "outputs": [
    {
     "name": "stdout",
     "output_type": "stream",
     "text": [
      "1190.938561812244\n"
     ]
    }
   ],
   "source": [
    "from sklearn.cluster import KMeans\n",
    "kmeans_fit = KMeans(n_clusters=2,init=\"k-means++\",n_init=10,max_iter=300,tol=1e-04,random_state=10).fit(df1)\n",
    "print(kmeans_fit.inertia_)"
   ]
  },
  {
   "cell_type": "code",
   "execution_count": 5,
   "metadata": {},
   "outputs": [
    {
     "name": "stdout",
     "output_type": "stream",
     "text": [
      "[1190.938561812244, 735.3718973157518, 386.4566956538551, 344.7782012707354, 304.4152772469349, 269.5311393762965, 243.22568149214243, 215.86682706900993]\n"
     ]
    },
    {
     "data": {
      "image/png": "[encoded data removed]",
      "text/plain": [
       "<Figure size 432x288 with 1 Axes>"
      ]
     },
     "metadata": {
      "needs_background": "light"
     },
     "output_type": "display_data"
    }
   ],
   "source": [
    "sse_list = [ ] \n",
    "K = range(2, 10) \n",
    "for k in range(2,10): \n",
    "    kmeans_fit=KMeans(n_clusters=k).fit(df1) \n",
    "    sse_list.append(kmeans_fit.inertia_)   #model.inertia_返回模型的误差平方和，保存进入列表\n",
    "\n",
    "print(sse_list)\n",
    "\n",
    "#折线图展示聚类数——SSE曲线\n",
    "plt.figure() \n",
    "plt.plot(np.array(K), sse_list, 'bx-')\n",
    "plt.rcParams['figure.figsize'] = [12,8]\n",
    "plt.xlabel('k',fontsize=18)\n",
    "plt.ylabel('sum of Squares',fontsize=18)\n",
    "plt.xticks(fontsize=15)\n",
    "plt.yticks(fontsize=15)\n",
    "plt.show()"
   ]
  },
  {
   "cell_type": "code",
   "execution_count": 6,
   "metadata": {},
   "outputs": [
    {
     "name": "stdout",
     "output_type": "stream",
     "text": [
      "386.4566956538551\n"
     ]
    }
   ],
   "source": [
    "#最佳分群數為四個\n",
    "kmeans = KMeans(n_clusters=4,init=\"k-means++\",n_init=10,max_iter=300,tol=1e-04,random_state=10)\n",
    "kmeans_fit=kmeans.fit(df1)\n",
    "print(kmeans_fit.inertia_)"
   ]
  },
  {
   "cell_type": "code",
   "execution_count": 7,
   "metadata": {},
   "outputs": [
    {
     "data": {
      "text/html": [
       "<div>\n",
       "<style scoped>\n",
       "    .dataframe tbody tr th:only-of-type {\n",
       "        vertical-align: middle;\n",
       "    }\n",
       "\n",
       "    .dataframe tbody tr th {\n",
       "        vertical-align: top;\n",
       "    }\n",
       "\n",
       "    .dataframe thead th {\n",
       "        text-align: right;\n",
       "    }\n",
       "</style>\n",
       "<table border=\"1\" class=\"dataframe\">\n",
       "  <thead>\n",
       "    <tr style=\"text-align: right;\">\n",
       "      <th></th>\n",
       "      <th>income</th>\n",
       "      <th>age</th>\n",
       "      <th>z_income</th>\n",
       "      <th>z_age</th>\n",
       "      <th>kmean_cluster</th>\n",
       "    </tr>\n",
       "  </thead>\n",
       "  <tbody>\n",
       "    <tr>\n",
       "      <th>0</th>\n",
       "      <td>101743</td>\n",
       "      <td>58</td>\n",
       "      <td>0.551088</td>\n",
       "      <td>1.694418</td>\n",
       "      <td>0</td>\n",
       "    </tr>\n",
       "    <tr>\n",
       "      <th>1</th>\n",
       "      <td>49597</td>\n",
       "      <td>27</td>\n",
       "      <td>-0.777720</td>\n",
       "      <td>-1.131131</td>\n",
       "      <td>3</td>\n",
       "    </tr>\n",
       "    <tr>\n",
       "      <th>2</th>\n",
       "      <td>36517</td>\n",
       "      <td>52</td>\n",
       "      <td>-1.111030</td>\n",
       "      <td>1.147537</td>\n",
       "      <td>2</td>\n",
       "    </tr>\n",
       "    <tr>\n",
       "      <th>3</th>\n",
       "      <td>33223</td>\n",
       "      <td>49</td>\n",
       "      <td>-1.194969</td>\n",
       "      <td>0.874097</td>\n",
       "      <td>2</td>\n",
       "    </tr>\n",
       "    <tr>\n",
       "      <th>4</th>\n",
       "      <td>72994</td>\n",
       "      <td>53</td>\n",
       "      <td>-0.181507</td>\n",
       "      <td>1.238684</td>\n",
       "      <td>2</td>\n",
       "    </tr>\n",
       "    <tr>\n",
       "      <th>...</th>\n",
       "      <td>...</td>\n",
       "      <td>...</td>\n",
       "      <td>...</td>\n",
       "      <td>...</td>\n",
       "      <td>...</td>\n",
       "    </tr>\n",
       "    <tr>\n",
       "      <th>995</th>\n",
       "      <td>70615</td>\n",
       "      <td>29</td>\n",
       "      <td>-0.242130</td>\n",
       "      <td>-0.948837</td>\n",
       "      <td>3</td>\n",
       "    </tr>\n",
       "    <tr>\n",
       "      <th>996</th>\n",
       "      <td>95102</td>\n",
       "      <td>41</td>\n",
       "      <td>0.381859</td>\n",
       "      <td>0.144923</td>\n",
       "      <td>0</td>\n",
       "    </tr>\n",
       "    <tr>\n",
       "      <th>997</th>\n",
       "      <td>42203</td>\n",
       "      <td>35</td>\n",
       "      <td>-0.966137</td>\n",
       "      <td>-0.401957</td>\n",
       "      <td>3</td>\n",
       "    </tr>\n",
       "    <tr>\n",
       "      <th>998</th>\n",
       "      <td>16975</td>\n",
       "      <td>31</td>\n",
       "      <td>-1.609008</td>\n",
       "      <td>-0.766544</td>\n",
       "      <td>3</td>\n",
       "    </tr>\n",
       "    <tr>\n",
       "      <th>999</th>\n",
       "      <td>123857</td>\n",
       "      <td>44</td>\n",
       "      <td>1.114607</td>\n",
       "      <td>0.418363</td>\n",
       "      <td>0</td>\n",
       "    </tr>\n",
       "  </tbody>\n",
       "</table>\n",
       "<p>1000 rows × 5 columns</p>\n",
       "</div>"
      ],
      "text/plain": [
       "     income  age  z_income     z_age  kmean_cluster\n",
       "0    101743   58  0.551088  1.694418              0\n",
       "1     49597   27 -0.777720 -1.131131              3\n",
       "2     36517   52 -1.111030  1.147537              2\n",
       "3     33223   49 -1.194969  0.874097              2\n",
       "4     72994   53 -0.181507  1.238684              2\n",
       "..      ...  ...       ...       ...            ...\n",
       "995   70615   29 -0.242130 -0.948837              3\n",
       "996   95102   41  0.381859  0.144923              0\n",
       "997   42203   35 -0.966137 -0.401957              3\n",
       "998   16975   31 -1.609008 -0.766544              3\n",
       "999  123857   44  1.114607  0.418363              0\n",
       "\n",
       "[1000 rows x 5 columns]"
      ]
     },
     "execution_count": 7,
     "metadata": {},
     "output_type": "execute_result"
    }
   ],
   "source": [
    "df.insert(4, column=\"kmean_cluster\", value=kmeans_fit.labels_)\n",
    "df"
   ]
  },
  {
   "cell_type": "code",
   "execution_count": 21,
   "metadata": {},
   "outputs": [
    {
     "name": "stdout",
     "output_type": "stream",
     "text": [
      "0的數量： 238\n",
      "1的數量： 248\n",
      "2的數量： 256\n",
      "3的數量： 258\n"
     ]
    }
   ],
   "source": [
    "clusters = kmeans.fit_predict(df1)\n",
    "print(\"0的數量：\",np.count_nonzero(clusters == 0))\n",
    "print(\"1的數量：\",np.count_nonzero(clusters == 1))\n",
    "print(\"2的數量：\",np.count_nonzero(clusters == 2))\n",
    "print(\"3的數量：\",np.count_nonzero(clusters == 3))"
   ]
  },
  {
   "cell_type": "code",
   "execution_count": 8,
   "metadata": {},
   "outputs": [
    {
     "name": "stderr",
     "output_type": "stream",
     "text": [
      "/Users/xwlee/opt/anaconda3/lib/python3.8/site-packages/sklearn/utils/deprecation.py:143: FutureWarning: The sklearn.datasets.samples_generator module is  deprecated in version 0.22 and will be removed in version 0.24. The corresponding classes / functions should instead be imported from sklearn.datasets. Anything that cannot be imported from sklearn.datasets is now part of the private API.\n",
      "  warnings.warn(message, FutureWarning)\n"
     ]
    },
    {
     "data": {
      "text/html": [
       "<div>\n",
       "<style scoped>\n",
       "    .dataframe tbody tr th:only-of-type {\n",
       "        vertical-align: middle;\n",
       "    }\n",
       "\n",
       "    .dataframe tbody tr th {\n",
       "        vertical-align: top;\n",
       "    }\n",
       "\n",
       "    .dataframe thead th {\n",
       "        text-align: right;\n",
       "    }\n",
       "</style>\n",
       "<table border=\"1\" class=\"dataframe\">\n",
       "  <thead>\n",
       "    <tr style=\"text-align: right;\">\n",
       "      <th></th>\n",
       "      <th>z_income</th>\n",
       "      <th>z_age</th>\n",
       "    </tr>\n",
       "  </thead>\n",
       "  <tbody>\n",
       "    <tr>\n",
       "      <th>0</th>\n",
       "      <td>0.551088</td>\n",
       "      <td>1.694418</td>\n",
       "    </tr>\n",
       "    <tr>\n",
       "      <th>1</th>\n",
       "      <td>-0.777720</td>\n",
       "      <td>-1.131131</td>\n",
       "    </tr>\n",
       "    <tr>\n",
       "      <th>2</th>\n",
       "      <td>-1.111030</td>\n",
       "      <td>1.147537</td>\n",
       "    </tr>\n",
       "    <tr>\n",
       "      <th>3</th>\n",
       "      <td>-1.194969</td>\n",
       "      <td>0.874097</td>\n",
       "    </tr>\n",
       "    <tr>\n",
       "      <th>4</th>\n",
       "      <td>-0.181507</td>\n",
       "      <td>1.238684</td>\n",
       "    </tr>\n",
       "    <tr>\n",
       "      <th>...</th>\n",
       "      <td>...</td>\n",
       "      <td>...</td>\n",
       "    </tr>\n",
       "    <tr>\n",
       "      <th>995</th>\n",
       "      <td>-0.242130</td>\n",
       "      <td>-0.948837</td>\n",
       "    </tr>\n",
       "    <tr>\n",
       "      <th>996</th>\n",
       "      <td>0.381859</td>\n",
       "      <td>0.144923</td>\n",
       "    </tr>\n",
       "    <tr>\n",
       "      <th>997</th>\n",
       "      <td>-0.966137</td>\n",
       "      <td>-0.401957</td>\n",
       "    </tr>\n",
       "    <tr>\n",
       "      <th>998</th>\n",
       "      <td>-1.609008</td>\n",
       "      <td>-0.766544</td>\n",
       "    </tr>\n",
       "    <tr>\n",
       "      <th>999</th>\n",
       "      <td>1.114607</td>\n",
       "      <td>0.418363</td>\n",
       "    </tr>\n",
       "  </tbody>\n",
       "</table>\n",
       "<p>1000 rows × 2 columns</p>\n",
       "</div>"
      ],
      "text/plain": [
       "     z_income     z_age\n",
       "0    0.551088  1.694418\n",
       "1   -0.777720 -1.131131\n",
       "2   -1.111030  1.147537\n",
       "3   -1.194969  0.874097\n",
       "4   -0.181507  1.238684\n",
       "..        ...       ...\n",
       "995 -0.242130 -0.948837\n",
       "996  0.381859  0.144923\n",
       "997 -0.966137 -0.401957\n",
       "998 -1.609008 -0.766544\n",
       "999  1.114607  0.418363\n",
       "\n",
       "[1000 rows x 2 columns]"
      ]
     },
     "execution_count": 8,
     "metadata": {},
     "output_type": "execute_result"
    }
   ],
   "source": [
    "import numpy as np\n",
    "from sklearn.cluster import MeanShift, estimate_bandwidth\n",
    "from sklearn.datasets.samples_generator import make_blobs\n",
    "df2 = pd.read_csv('/Users/xwlee/Desktop/ECt/hw5/ageinc.csv') \n",
    "df2.insert(2, column=\"z_income\", value=preprocessing.scale(df2['income']))\n",
    "df2.insert(3, column=\"z_age\", value=preprocessing.scale(df2['age']))\n",
    "df3 = df2.drop(['income','age'],axis=1)\n",
    "df3"
   ]
  },
  {
   "cell_type": "code",
   "execution_count": 9,
   "metadata": {},
   "outputs": [
    {
     "name": "stdout",
     "output_type": "stream",
     "text": [
      "最佳帶寬： 0.6371390561473768\n"
     ]
    }
   ],
   "source": [
    "bandwidth = estimate_bandwidth(df3, quantile=0.1, n_samples=1000)\n",
    "print(\"最佳帶寬：\",bandwidth)"
   ]
  },
  {
   "cell_type": "code",
   "execution_count": 10,
   "metadata": {},
   "outputs": [
    {
     "name": "stdout",
     "output_type": "stream",
     "text": [
      "number of estimated clusters : 4\n"
     ]
    }
   ],
   "source": [
    "ms = MeanShift(bandwidth=bandwidth, bin_seeding=True)\n",
    "ms_fit=ms.fit(df3)\n",
    "labels = ms.labels_\n",
    "cluster_centers = ms.cluster_centers_\n",
    "\n",
    "labels_unique = np.unique(labels)\n",
    "n_clusters_ = len(labels_unique)\n",
    "\n",
    "print(\"number of estimated clusters : %d\" % n_clusters_)"
   ]
  },
  {
   "cell_type": "code",
   "execution_count": 11,
   "metadata": {},
   "outputs": [
    {
     "data": {
      "text/html": [
       "<div>\n",
       "<style scoped>\n",
       "    .dataframe tbody tr th:only-of-type {\n",
       "        vertical-align: middle;\n",
       "    }\n",
       "\n",
       "    .dataframe tbody tr th {\n",
       "        vertical-align: top;\n",
       "    }\n",
       "\n",
       "    .dataframe thead th {\n",
       "        text-align: right;\n",
       "    }\n",
       "</style>\n",
       "<table border=\"1\" class=\"dataframe\">\n",
       "  <thead>\n",
       "    <tr style=\"text-align: right;\">\n",
       "      <th></th>\n",
       "      <th>income</th>\n",
       "      <th>age</th>\n",
       "      <th>z_income</th>\n",
       "      <th>z_age</th>\n",
       "      <th>Mean_shift_cluster</th>\n",
       "    </tr>\n",
       "  </thead>\n",
       "  <tbody>\n",
       "    <tr>\n",
       "      <th>0</th>\n",
       "      <td>101743</td>\n",
       "      <td>58</td>\n",
       "      <td>0.551088</td>\n",
       "      <td>1.694418</td>\n",
       "      <td>2</td>\n",
       "    </tr>\n",
       "    <tr>\n",
       "      <th>1</th>\n",
       "      <td>49597</td>\n",
       "      <td>27</td>\n",
       "      <td>-0.777720</td>\n",
       "      <td>-1.131131</td>\n",
       "      <td>3</td>\n",
       "    </tr>\n",
       "    <tr>\n",
       "      <th>2</th>\n",
       "      <td>36517</td>\n",
       "      <td>52</td>\n",
       "      <td>-1.111030</td>\n",
       "      <td>1.147537</td>\n",
       "      <td>0</td>\n",
       "    </tr>\n",
       "    <tr>\n",
       "      <th>3</th>\n",
       "      <td>33223</td>\n",
       "      <td>49</td>\n",
       "      <td>-1.194969</td>\n",
       "      <td>0.874097</td>\n",
       "      <td>0</td>\n",
       "    </tr>\n",
       "    <tr>\n",
       "      <th>4</th>\n",
       "      <td>72994</td>\n",
       "      <td>53</td>\n",
       "      <td>-0.181507</td>\n",
       "      <td>1.238684</td>\n",
       "      <td>0</td>\n",
       "    </tr>\n",
       "    <tr>\n",
       "      <th>...</th>\n",
       "      <td>...</td>\n",
       "      <td>...</td>\n",
       "      <td>...</td>\n",
       "      <td>...</td>\n",
       "      <td>...</td>\n",
       "    </tr>\n",
       "    <tr>\n",
       "      <th>995</th>\n",
       "      <td>70615</td>\n",
       "      <td>29</td>\n",
       "      <td>-0.242130</td>\n",
       "      <td>-0.948837</td>\n",
       "      <td>3</td>\n",
       "    </tr>\n",
       "    <tr>\n",
       "      <th>996</th>\n",
       "      <td>95102</td>\n",
       "      <td>41</td>\n",
       "      <td>0.381859</td>\n",
       "      <td>0.144923</td>\n",
       "      <td>2</td>\n",
       "    </tr>\n",
       "    <tr>\n",
       "      <th>997</th>\n",
       "      <td>42203</td>\n",
       "      <td>35</td>\n",
       "      <td>-0.966137</td>\n",
       "      <td>-0.401957</td>\n",
       "      <td>3</td>\n",
       "    </tr>\n",
       "    <tr>\n",
       "      <th>998</th>\n",
       "      <td>16975</td>\n",
       "      <td>31</td>\n",
       "      <td>-1.609008</td>\n",
       "      <td>-0.766544</td>\n",
       "      <td>3</td>\n",
       "    </tr>\n",
       "    <tr>\n",
       "      <th>999</th>\n",
       "      <td>123857</td>\n",
       "      <td>44</td>\n",
       "      <td>1.114607</td>\n",
       "      <td>0.418363</td>\n",
       "      <td>2</td>\n",
       "    </tr>\n",
       "  </tbody>\n",
       "</table>\n",
       "<p>1000 rows × 5 columns</p>\n",
       "</div>"
      ],
      "text/plain": [
       "     income  age  z_income     z_age  Mean_shift_cluster\n",
       "0    101743   58  0.551088  1.694418                   2\n",
       "1     49597   27 -0.777720 -1.131131                   3\n",
       "2     36517   52 -1.111030  1.147537                   0\n",
       "3     33223   49 -1.194969  0.874097                   0\n",
       "4     72994   53 -0.181507  1.238684                   0\n",
       "..      ...  ...       ...       ...                 ...\n",
       "995   70615   29 -0.242130 -0.948837                   3\n",
       "996   95102   41  0.381859  0.144923                   2\n",
       "997   42203   35 -0.966137 -0.401957                   3\n",
       "998   16975   31 -1.609008 -0.766544                   3\n",
       "999  123857   44  1.114607  0.418363                   2\n",
       "\n",
       "[1000 rows x 5 columns]"
      ]
     },
     "execution_count": 11,
     "metadata": {},
     "output_type": "execute_result"
    }
   ],
   "source": [
    "df2.insert(4, column=\"Mean_shift_cluster\", value=ms_fit.labels_)\n",
    "df2"
   ]
  },
  {
   "cell_type": "code",
   "execution_count": 20,
   "metadata": {},
   "outputs": [
    {
     "data": {
      "image/png": "[encoded data removed]",
      "text/plain": [
       "<Figure size 864x576 with 1 Axes>"
      ]
     },
     "metadata": {
      "needs_background": "light"
     },
     "output_type": "display_data"
    }
   ],
   "source": [
    "for i in range(len(df)):\n",
    "    if df['kmean_cluster'].iloc[i]==0:\n",
    "        plt.scatter(df['income'].iloc[i],df['age'].iloc[i],c=\"black\",marker=\"d\")\n",
    "    elif df['kmean_cluster'].iloc[i]==1:\n",
    "        plt.scatter(df['income'].iloc[i],df['age'].iloc[i],c=\"blue\",marker=\"o\")\n",
    "    elif df['kmean_cluster'].iloc[i]==2:\n",
    "        plt.scatter(df['income'].iloc[i],df['age'].iloc[i],c=\"red\",marker=\"^\")\n",
    "    else :\n",
    "        plt.scatter(df['income'].iloc[i],df['age'].iloc[i],c=\"green\",marker=\"s\")  \n",
    "plt.show()"
   ]
  },
  {
   "cell_type": "code",
   "execution_count": 14,
   "metadata": {},
   "outputs": [
    {
     "data": {
      "image/png": "[encoded data removed]",
      "text/plain": [
       "<Figure size 864x576 with 1 Axes>"
      ]
     },
     "metadata": {
      "needs_background": "light"
     },
     "output_type": "display_data"
    }
   ],
   "source": [
    "for i in range(len(df2)):\n",
    "    if df2['Mean_shift_cluster'].iloc[i]==0:\n",
    "        plt.scatter(df2['income'].iloc[i],df2['age'].iloc[i],c=\"orange\",marker=\"o\")\n",
    "    elif df2['Mean_shift_cluster'].iloc[i]==1:\n",
    "        plt.scatter(df2['income'].iloc[i],df2['age'].iloc[i],c=\"red\",marker=\"^\")\n",
    "    elif df2['Mean_shift_cluster'].iloc[i]==2:\n",
    "        plt.scatter(df2['income'].iloc[i],df2['age'].iloc[i],c=\"blue\",marker=\"v\")\n",
    "    else :\n",
    "        plt.scatter(df2['income'].iloc[i],df2['age'].iloc[i],c=\"pink\",marker=\"<\")\n",
    "plt.show()"
   ]
  },
  {
   "cell_type": "code",
   "execution_count": 15,
   "metadata": {},
   "outputs": [
    {
     "data": {
      "text/html": [
       "<div>\n",
       "<style scoped>\n",
       "    .dataframe tbody tr th:only-of-type {\n",
       "        vertical-align: middle;\n",
       "    }\n",
       "\n",
       "    .dataframe tbody tr th {\n",
       "        vertical-align: top;\n",
       "    }\n",
       "\n",
       "    .dataframe thead th {\n",
       "        text-align: right;\n",
       "    }\n",
       "</style>\n",
       "<table border=\"1\" class=\"dataframe\">\n",
       "  <thead>\n",
       "    <tr style=\"text-align: right;\">\n",
       "      <th></th>\n",
       "      <th>age</th>\n",
       "      <th>education</th>\n",
       "      <th>z_age</th>\n",
       "    </tr>\n",
       "  </thead>\n",
       "  <tbody>\n",
       "    <tr>\n",
       "      <th>0</th>\n",
       "      <td>27.007219</td>\n",
       "      <td>college</td>\n",
       "      <td>1.694418</td>\n",
       "    </tr>\n",
       "    <tr>\n",
       "      <th>1</th>\n",
       "      <td>47.615409</td>\n",
       "      <td>highschool</td>\n",
       "      <td>-1.131131</td>\n",
       "    </tr>\n",
       "    <tr>\n",
       "      <th>2</th>\n",
       "      <td>51.382815</td>\n",
       "      <td>highschool</td>\n",
       "      <td>1.147537</td>\n",
       "    </tr>\n",
       "    <tr>\n",
       "      <th>3</th>\n",
       "      <td>54.906622</td>\n",
       "      <td>highschool</td>\n",
       "      <td>0.874097</td>\n",
       "    </tr>\n",
       "    <tr>\n",
       "      <th>4</th>\n",
       "      <td>27.719939</td>\n",
       "      <td>less_than_highschool</td>\n",
       "      <td>1.238684</td>\n",
       "    </tr>\n",
       "    <tr>\n",
       "      <th>...</th>\n",
       "      <td>...</td>\n",
       "      <td>...</td>\n",
       "      <td>...</td>\n",
       "    </tr>\n",
       "    <tr>\n",
       "      <th>995</th>\n",
       "      <td>57.550481</td>\n",
       "      <td>less_than_highschool</td>\n",
       "      <td>-0.948837</td>\n",
       "    </tr>\n",
       "    <tr>\n",
       "      <th>996</th>\n",
       "      <td>23.726849</td>\n",
       "      <td>college</td>\n",
       "      <td>0.144923</td>\n",
       "    </tr>\n",
       "    <tr>\n",
       "      <th>997</th>\n",
       "      <td>52.828647</td>\n",
       "      <td>highschool</td>\n",
       "      <td>-0.401957</td>\n",
       "    </tr>\n",
       "    <tr>\n",
       "      <th>998</th>\n",
       "      <td>54.411223</td>\n",
       "      <td>highschool</td>\n",
       "      <td>-0.766544</td>\n",
       "    </tr>\n",
       "    <tr>\n",
       "      <th>999</th>\n",
       "      <td>48.481719</td>\n",
       "      <td>less_than_highschool</td>\n",
       "      <td>0.418363</td>\n",
       "    </tr>\n",
       "  </tbody>\n",
       "</table>\n",
       "<p>1000 rows × 3 columns</p>\n",
       "</div>"
      ],
      "text/plain": [
       "           age             education     z_age\n",
       "0    27.007219               college  1.694418\n",
       "1    47.615409            highschool -1.131131\n",
       "2    51.382815            highschool  1.147537\n",
       "3    54.906622            highschool  0.874097\n",
       "4    27.719939  less_than_highschool  1.238684\n",
       "..         ...                   ...       ...\n",
       "995  57.550481  less_than_highschool -0.948837\n",
       "996  23.726849               college  0.144923\n",
       "997  52.828647            highschool -0.401957\n",
       "998  54.411223            highschool -0.766544\n",
       "999  48.481719  less_than_highschool  0.418363\n",
       "\n",
       "[1000 rows x 3 columns]"
      ]
     },
     "execution_count": 15,
     "metadata": {},
     "output_type": "execute_result"
    }
   ],
   "source": [
    "import numpy as np\n",
    "df4 = pd.read_csv('/Users/xwlee/Desktop/ECt/hw5/age_education.csv') \n",
    "df4.insert(2, column=\"z_age\", value=preprocessing.scale(df['age']))\n",
    "df4"
   ]
  },
  {
   "cell_type": "code",
   "execution_count": 17,
   "metadata": {},
   "outputs": [
    {
     "name": "stdout",
     "output_type": "stream",
     "text": [
      "0的數量： 316\n",
      "1的數量： 288\n",
      "2的數量： 396\n"
     ]
    }
   ],
   "source": [
    "from kmodes.kprototypes import KPrototypes\n",
    "kproto = KPrototypes(n_clusters=3, init='Huang', verbose=0, random_state=10) \n",
    "clusters = kproto.fit_predict(df4, categorical=[1])\n",
    "print(\"0的數量：\",np.count_nonzero(clusters == 0))\n",
    "print(\"1的數量：\",np.count_nonzero(clusters == 1))\n",
    "print(\"2的數量：\",np.count_nonzero(clusters == 2))"
   ]
  },
  {
   "cell_type": "code",
   "execution_count": 18,
   "metadata": {},
   "outputs": [],
   "source": [
    "import numpy as np\n",
    "df5 = pd.read_csv('/Users/xwlee/Desktop/ECt/hw5/customer_offers.csv') \n",
    "df5.set_index(\"customer_name\" , inplace=True)"
   ]
  },
  {
   "cell_type": "code",
   "execution_count": 19,
   "metadata": {},
   "outputs": [
    {
     "name": "stdout",
     "output_type": "stream",
     "text": [
      "0的數量： 17\n",
      "1的數量： 61\n",
      "2的數量： 15\n",
      "3的數量： 7\n"
     ]
    }
   ],
   "source": [
    "from kmodes.kmodes import KModes\n",
    "kmo = KModes(n_clusters=4, init='Huang', verbose=0,random_state=10)\n",
    "clusters = kmo.fit_predict(df5)\n",
    "print(\"0的數量：\",np.count_nonzero(clusters == 0))\n",
    "print(\"1的數量：\",np.count_nonzero(clusters == 1))\n",
    "print(\"2的數量：\",np.count_nonzero(clusters == 2))\n",
    "print(\"3的數量：\",np.count_nonzero(clusters == 3))"
   ]
  },
  {
   "cell_type": "raw",
   "metadata": {},
   "source": []
  },
  {
   "cell_type": "code",
   "execution_count": null,
   "metadata": {},
   "outputs": [],
   "source": []
  },
  {
   "cell_type": "code",
   "execution_count": null,
   "metadata": {},
   "outputs": [],
   "source": []
  }
 ],
 "metadata": {
  "kernelspec": {
   "display_name": "Python 3",
   "language": "python",
   "name": "python3"
  },
  "language_info": {
   "codemirror_mode": {
    "name": "ipython",
    "version": 3
   },
   "file_extension": ".py",
   "mimetype": "text/x-python",
   "name": "python",
   "nbconvert_exporter": "python",
   "pygments_lexer": "ipython3",
   "version": "3.8.5"
  }
 },
 "nbformat": 4,
 "nbformat_minor": 4
}
